{
  "nbformat": 4,
  "nbformat_minor": 0,
  "metadata": {
    "colab": {
      "provenance": []
    },
    "kernelspec": {
      "name": "python3",
      "display_name": "Python 3"
    },
    "language_info": {
      "name": "python"
    }
  },
  "cells": [
    {
      "cell_type": "code",
      "execution_count": null,
      "metadata": {
        "id": "6FgKC51cdHpL"
      },
      "outputs": [],
      "source": [
        "import numpy as np\n",
        "import pandas as pd\n",
        "import matplotlib.pyplot as plt\n",
        "from sklearn.svm import SVC\n",
        "from sklearn.preprocessing import StandardScaler,MinMaxScaler\n",
        "from sklearn.model_selection import train_test_split\n",
        "from sklearn.metrics import accuracy_score\n",
        "import seaborn as sns\n",
        "import plotly.express as px"
      ]
    },
    {
      "cell_type": "code",
      "execution_count": null,
      "metadata": {
        "colab": {
          "base_uri": "https://localhost:8080/"
        },
        "id": "o4fLX4d3_vgG",
        "outputId": "8a0c0532-dd2e-4fdb-bb2f-31c931325d9d"
      },
      "outputs": [
        {
          "output_type": "stream",
          "name": "stdout",
          "text": [
            "Drive already mounted at /content/drive; to attempt to forcibly remount, call drive.mount(\"/content/drive\", force_remount=True).\n"
          ]
        }
      ],
      "source": [
        "from google.colab import drive\n",
        "drive.mount('/content/drive')"
      ]
    },
    {
      "cell_type": "code",
      "execution_count": null,
      "metadata": {
        "id": "_BQfZu9pEuLZ"
      },
      "outputs": [],
      "source": [
        "# Load the dataset\n",
        "data = pd.read_csv('/content/drive/MyDrive/creditcard.csv')\n"
      ]
    },
    {
      "cell_type": "code",
      "execution_count": null,
      "metadata": {
        "id": "LnSKaQ7PqiYR"
      },
      "outputs": [],
      "source": [
        "data=data.drop(['Time'],axis=1)"
      ]
    },
    {
      "cell_type": "code",
      "execution_count": null,
      "metadata": {
        "id": "kVwyio9Mqlgq"
      },
      "outputs": [],
      "source": [
        "X=data[data.drop('Class',axis=1).columns]\n",
        "y=data['Class' ]"
      ]
    },
    {
      "cell_type": "code",
      "source": [
        "from sklearn.svm import SVC\n",
        "\n",
        "from sklearn import metrics\n",
        "from sklearn.metrics import confusion_matrix\n",
        "from sklearn.metrics import roc_curve\n",
        "from sklearn.metrics import roc_auc_score\n",
        "from sklearn.metrics import auc\n",
        "from sklearn.metrics import precision_recall_curve\n",
        "import pandas as pd\n",
        "from sklearn.model_selection import train_test_split\n",
        "from sklearn import svm\n",
        "from sklearn.model_selection import GridSearchCV\n",
        "\n",
        "\n",
        "\n",
        "\n"
      ],
      "metadata": {
        "id": "nW0UjbhVEvsb"
      },
      "execution_count": null,
      "outputs": []
    },
    {
      "cell_type": "code",
      "source": [
        "xtr, xt, ytr, yt = train_test_split(X, y, test_size=0.33, random_state=10)"
      ],
      "metadata": {
        "id": "7eP5sCVJPLzS"
      },
      "execution_count": null,
      "outputs": []
    },
    {
      "cell_type": "code",
      "source": [
        "df=pd.concat([xtr,ytr],axis=1)"
      ],
      "metadata": {
        "id": "CFzs9IitPxYe"
      },
      "execution_count": null,
      "outputs": []
    },
    {
      "cell_type": "code",
      "source": [
        "class_0 = df[df['Class'] == 0]\n",
        "class_1 = df[df['Class'] == 1]"
      ],
      "metadata": {
        "id": "xmNZfYliP2Sf"
      },
      "execution_count": null,
      "outputs": []
    },
    {
      "cell_type": "code",
      "source": [
        "from sklearn.utils import resample\n",
        "class0 = resample(class_0,replace=False,n_samples=10000,random_state=42)"
      ],
      "metadata": {
        "id": "4miN2KVfRCre"
      },
      "execution_count": null,
      "outputs": []
    },
    {
      "cell_type": "code",
      "source": [
        "xtr=pd.concat([class0,class_1],axis=0,ignore_index=True)"
      ],
      "metadata": {
        "id": "Hqxt28sHxZ4M"
      },
      "execution_count": null,
      "outputs": []
    },
    {
      "cell_type": "code",
      "source": [
        "ytr=xtr['Class']\n",
        "xtr=xtr.drop('Class',axis=1)"
      ],
      "metadata": {
        "id": "Ck2Z9aOMxt3x"
      },
      "execution_count": null,
      "outputs": []
    },
    {
      "cell_type": "code",
      "source": [
        "from imblearn.over_sampling import SMOTE\n",
        "xtr,ytr=SMOTE().fit_resample(xtr,ytr)"
      ],
      "metadata": {
        "id": "OuZui6zkxNMC"
      },
      "execution_count": null,
      "outputs": []
    },
    {
      "cell_type": "code",
      "source": [
        "# from sklearn.cluster import KMeans\n",
        "# import numpy as np\n",
        "\n",
        "# # Number of samples to extract\n",
        "# n = 1000\n",
        "\n",
        "# kmeans_class_0 = KMeans(n_clusters=n, random_state=42)\n",
        "# # Fit KMeans to data without the 'Class' column\n",
        "# kmeans_class_0.fit(class_0.drop(columns=['Class'])) # Drop 'Class' column before fitting\n",
        "# class_0['cluster'] = kmeans_class_0.labels_\n",
        "\n",
        "\n",
        "# def max_var(data, center):\n",
        "#     # Ensure data and center have the same dimensions\n",
        "#     dists = np.linalg.norm(data - center, axis=1)\n",
        "#     max_point = data.iloc[dists.argmax()]\n",
        "#     return max_point\n",
        "\n",
        "# max_points = []\n",
        "\n",
        "# for lbl in range(n):\n",
        "#     cluster_data = class_0[class_0['cluster'] == lbl].drop(columns=['cluster', 'Class']) # Drop 'cluster' and 'Class'\n",
        "#     center = kmeans_class_0.cluster_centers_[lbl]\n",
        "#     max_points.append(max_var(cluster_data, center))\n",
        "\n",
        "# bal_X = pd.DataFrame(max_points).reset_index(drop=True)\n",
        "\n",
        "# print(\"Shape of bal_X:\", bal_X.shape)"
      ],
      "metadata": {
        "id": "V9YbX70KP2Om"
      },
      "execution_count": null,
      "outputs": []
    },
    {
      "cell_type": "code",
      "source": [
        "# bal_X.drop('Class',axis=1,inplace=True)"
      ],
      "metadata": {
        "id": "BgxOjvXOS0CJ"
      },
      "execution_count": null,
      "outputs": []
    },
    {
      "cell_type": "code",
      "source": [
        "# class_1.drop('Class',axis=1,inplace=True)"
      ],
      "metadata": {
        "id": "SL1mYHhzTiZl"
      },
      "execution_count": null,
      "outputs": []
    },
    {
      "cell_type": "code",
      "source": [
        "# print(\"Shape of bal_X:\", bal_X.shape)"
      ],
      "metadata": {
        "id": "PidEGV9mS8TW"
      },
      "execution_count": null,
      "outputs": []
    },
    {
      "cell_type": "code",
      "source": [
        "# # Separate data points for each class\n",
        "# class_0 = data[data['Class'] == 0]\n",
        "# class_1 = data[data['Class'] == 1]\n",
        "\n",
        "# # Sample 500 data points from each class\n",
        "# class_0_sampled = class_0.sample(n=492, random_state=42)\n",
        "# class_1_sampled = class_1.sample(n=492, random_state=42)\n",
        "\n",
        "# # Combine the sampled data points\n",
        "# reduced_data = pd.concat([class_0_sampled, class_1_sampled])\n"
      ],
      "metadata": {
        "id": "oJvwWjNHDD0k"
      },
      "execution_count": null,
      "outputs": []
    },
    {
      "cell_type": "code",
      "source": [
        "# xtr=pd.concat([class_1,bal_X],axis=0,ignore_index=True)\n",
        "# ytr=pd.concat([pd.Series(np.zeros(len(bal_X))),pd.Series(np.ones(len(class_1)))],axis=0)"
      ],
      "metadata": {
        "id": "BnBiIEZiPwmd"
      },
      "execution_count": null,
      "outputs": []
    },
    {
      "cell_type": "code",
      "source": [
        "# # Proceed with splitting and training\n",
        "# X = reduced_data.drop('Class', axis=1)\n",
        "# y = reduced_data['Class']\n",
        "\n"
      ],
      "metadata": {
        "id": "BDkVs7nuC9uz"
      },
      "execution_count": null,
      "outputs": []
    },
    {
      "cell_type": "code",
      "source": [
        "xtr"
      ],
      "metadata": {
        "colab": {
          "base_uri": "https://localhost:8080/",
          "height": 443
        },
        "id": "sbWXPwoUTWYU",
        "outputId": "9bb6e356-6a19-4205-9409-b144a1024131"
      },
      "execution_count": null,
      "outputs": [
        {
          "output_type": "execute_result",
          "data": {
            "text/plain": [
              "              V1        V2         V3        V4        V5        V6        V7  \\\n",
              "0      -2.617028 -3.115011   0.685376  0.198444  1.184559 -2.525429 -1.968383   \n",
              "1      -0.051645 -2.544787   1.126139  1.147835 -2.275146  0.448899 -0.416517   \n",
              "2      -1.052998  0.425369  -1.187392 -0.508878  2.061990  0.950960  0.343668   \n",
              "3      -0.747672  0.308424   2.282280  0.550129 -2.251742  1.306888  1.409881   \n",
              "4      -0.916487  1.207840  -0.513035 -1.227918  2.053415  3.323461 -0.207330   \n",
              "...          ...       ...        ...       ...       ...       ...       ...   \n",
              "19995  -1.478732  1.234686  -5.611362  5.841975  3.428655 -2.816614 -1.531572   \n",
              "19996  -1.336714  1.366802  -1.564482  0.634207 -0.087367  1.006813 -2.963731   \n",
              "19997  -1.713174  2.114115  -1.662005  2.607487 -0.894464 -1.570597 -2.164013   \n",
              "19998  -4.697033  3.521861  -5.296648  4.003956 -3.273296 -0.940760 -5.726917   \n",
              "19999 -10.105190  7.469165 -13.104332  4.284690 -7.776837 -3.442143 -8.461299   \n",
              "\n",
              "             V8        V9       V10  ...       V20       V21       V22  \\\n",
              "0      0.711382  1.316460 -1.252802  ...  0.719499  0.526440  0.440286   \n",
              "1      0.232559  1.741104 -0.801488  ...  0.994566  0.306990 -0.038308   \n",
              "2      0.670876  0.312413 -0.894087  ... -0.310938  0.276621  1.278619   \n",
              "3     -0.280515  0.453351 -0.407185  ...  0.062336 -0.230413  0.000705   \n",
              "4      1.368472 -0.502626 -0.172838  ...  0.235268 -0.271038 -0.935668   \n",
              "...         ...       ...       ...  ...       ...       ...       ...   \n",
              "19995  0.750811 -3.129945 -3.513318  ...  0.809805  0.350392 -0.842089   \n",
              "19996 -2.445057  1.152708 -3.716076  ...  0.462194 -0.104611  0.779315   \n",
              "19997  1.094449 -2.328022 -3.421655  ...  0.171852  0.541231  0.076351   \n",
              "19998  0.940591 -2.248068 -5.617671  ... -0.339064  2.461536  0.034142   \n",
              "19999  7.022510 -2.377942 -6.039637  ...  0.837948  0.934021 -0.895898   \n",
              "\n",
              "            V23       V24       V25       V26       V27       V28      Amount  \n",
              "0      0.113601  0.638645 -0.700953 -0.720452  0.129882 -0.498381   10.000000  \n",
              "1     -0.429777  0.719803 -0.159799  1.039575 -0.101276  0.120115  595.760000  \n",
              "2      0.286261 -2.483598 -0.550057  0.036548  0.187174 -0.069097    8.180000  \n",
              "3     -0.074975  0.524661 -0.311055  1.193226 -0.152259 -0.263621  333.050000  \n",
              "4      0.012640  0.978728  0.040667  0.093648  0.252214  0.109035   11.980000  \n",
              "...         ...       ...       ...       ...       ...       ...         ...  \n",
              "19995 -0.036460  0.018600 -0.570984  0.003806  0.427073 -0.032357    0.000000  \n",
              "19996 -0.267056 -0.379381  0.214164 -0.107024  0.317702  0.061765   39.267967  \n",
              "19997 -0.214663  0.406073 -0.101575  0.247195  0.374852  0.075057    0.421781  \n",
              "19998  0.389009 -0.127152 -0.350592 -0.255466 -0.342939  0.018538    1.012236  \n",
              "19999 -0.208911 -0.033902  0.558653 -0.263776  1.124573  0.223346   99.990000  \n",
              "\n",
              "[20000 rows x 29 columns]"
            ],
            "text/html": [
              "\n",
              "  <div id=\"df-902c0be2-49fe-4305-b919-9f961b1eec58\" class=\"colab-df-container\">\n",
              "    <div>\n",
              "<style scoped>\n",
              "    .dataframe tbody tr th:only-of-type {\n",
              "        vertical-align: middle;\n",
              "    }\n",
              "\n",
              "    .dataframe tbody tr th {\n",
              "        vertical-align: top;\n",
              "    }\n",
              "\n",
              "    .dataframe thead th {\n",
              "        text-align: right;\n",
              "    }\n",
              "</style>\n",
              "<table border=\"1\" class=\"dataframe\">\n",
              "  <thead>\n",
              "    <tr style=\"text-align: right;\">\n",
              "      <th></th>\n",
              "      <th>V1</th>\n",
              "      <th>V2</th>\n",
              "      <th>V3</th>\n",
              "      <th>V4</th>\n",
              "      <th>V5</th>\n",
              "      <th>V6</th>\n",
              "      <th>V7</th>\n",
              "      <th>V8</th>\n",
              "      <th>V9</th>\n",
              "      <th>V10</th>\n",
              "      <th>...</th>\n",
              "      <th>V20</th>\n",
              "      <th>V21</th>\n",
              "      <th>V22</th>\n",
              "      <th>V23</th>\n",
              "      <th>V24</th>\n",
              "      <th>V25</th>\n",
              "      <th>V26</th>\n",
              "      <th>V27</th>\n",
              "      <th>V28</th>\n",
              "      <th>Amount</th>\n",
              "    </tr>\n",
              "  </thead>\n",
              "  <tbody>\n",
              "    <tr>\n",
              "      <th>0</th>\n",
              "      <td>-2.617028</td>\n",
              "      <td>-3.115011</td>\n",
              "      <td>0.685376</td>\n",
              "      <td>0.198444</td>\n",
              "      <td>1.184559</td>\n",
              "      <td>-2.525429</td>\n",
              "      <td>-1.968383</td>\n",
              "      <td>0.711382</td>\n",
              "      <td>1.316460</td>\n",
              "      <td>-1.252802</td>\n",
              "      <td>...</td>\n",
              "      <td>0.719499</td>\n",
              "      <td>0.526440</td>\n",
              "      <td>0.440286</td>\n",
              "      <td>0.113601</td>\n",
              "      <td>0.638645</td>\n",
              "      <td>-0.700953</td>\n",
              "      <td>-0.720452</td>\n",
              "      <td>0.129882</td>\n",
              "      <td>-0.498381</td>\n",
              "      <td>10.000000</td>\n",
              "    </tr>\n",
              "    <tr>\n",
              "      <th>1</th>\n",
              "      <td>-0.051645</td>\n",
              "      <td>-2.544787</td>\n",
              "      <td>1.126139</td>\n",
              "      <td>1.147835</td>\n",
              "      <td>-2.275146</td>\n",
              "      <td>0.448899</td>\n",
              "      <td>-0.416517</td>\n",
              "      <td>0.232559</td>\n",
              "      <td>1.741104</td>\n",
              "      <td>-0.801488</td>\n",
              "      <td>...</td>\n",
              "      <td>0.994566</td>\n",
              "      <td>0.306990</td>\n",
              "      <td>-0.038308</td>\n",
              "      <td>-0.429777</td>\n",
              "      <td>0.719803</td>\n",
              "      <td>-0.159799</td>\n",
              "      <td>1.039575</td>\n",
              "      <td>-0.101276</td>\n",
              "      <td>0.120115</td>\n",
              "      <td>595.760000</td>\n",
              "    </tr>\n",
              "    <tr>\n",
              "      <th>2</th>\n",
              "      <td>-1.052998</td>\n",
              "      <td>0.425369</td>\n",
              "      <td>-1.187392</td>\n",
              "      <td>-0.508878</td>\n",
              "      <td>2.061990</td>\n",
              "      <td>0.950960</td>\n",
              "      <td>0.343668</td>\n",
              "      <td>0.670876</td>\n",
              "      <td>0.312413</td>\n",
              "      <td>-0.894087</td>\n",
              "      <td>...</td>\n",
              "      <td>-0.310938</td>\n",
              "      <td>0.276621</td>\n",
              "      <td>1.278619</td>\n",
              "      <td>0.286261</td>\n",
              "      <td>-2.483598</td>\n",
              "      <td>-0.550057</td>\n",
              "      <td>0.036548</td>\n",
              "      <td>0.187174</td>\n",
              "      <td>-0.069097</td>\n",
              "      <td>8.180000</td>\n",
              "    </tr>\n",
              "    <tr>\n",
              "      <th>3</th>\n",
              "      <td>-0.747672</td>\n",
              "      <td>0.308424</td>\n",
              "      <td>2.282280</td>\n",
              "      <td>0.550129</td>\n",
              "      <td>-2.251742</td>\n",
              "      <td>1.306888</td>\n",
              "      <td>1.409881</td>\n",
              "      <td>-0.280515</td>\n",
              "      <td>0.453351</td>\n",
              "      <td>-0.407185</td>\n",
              "      <td>...</td>\n",
              "      <td>0.062336</td>\n",
              "      <td>-0.230413</td>\n",
              "      <td>0.000705</td>\n",
              "      <td>-0.074975</td>\n",
              "      <td>0.524661</td>\n",
              "      <td>-0.311055</td>\n",
              "      <td>1.193226</td>\n",
              "      <td>-0.152259</td>\n",
              "      <td>-0.263621</td>\n",
              "      <td>333.050000</td>\n",
              "    </tr>\n",
              "    <tr>\n",
              "      <th>4</th>\n",
              "      <td>-0.916487</td>\n",
              "      <td>1.207840</td>\n",
              "      <td>-0.513035</td>\n",
              "      <td>-1.227918</td>\n",
              "      <td>2.053415</td>\n",
              "      <td>3.323461</td>\n",
              "      <td>-0.207330</td>\n",
              "      <td>1.368472</td>\n",
              "      <td>-0.502626</td>\n",
              "      <td>-0.172838</td>\n",
              "      <td>...</td>\n",
              "      <td>0.235268</td>\n",
              "      <td>-0.271038</td>\n",
              "      <td>-0.935668</td>\n",
              "      <td>0.012640</td>\n",
              "      <td>0.978728</td>\n",
              "      <td>0.040667</td>\n",
              "      <td>0.093648</td>\n",
              "      <td>0.252214</td>\n",
              "      <td>0.109035</td>\n",
              "      <td>11.980000</td>\n",
              "    </tr>\n",
              "    <tr>\n",
              "      <th>...</th>\n",
              "      <td>...</td>\n",
              "      <td>...</td>\n",
              "      <td>...</td>\n",
              "      <td>...</td>\n",
              "      <td>...</td>\n",
              "      <td>...</td>\n",
              "      <td>...</td>\n",
              "      <td>...</td>\n",
              "      <td>...</td>\n",
              "      <td>...</td>\n",
              "      <td>...</td>\n",
              "      <td>...</td>\n",
              "      <td>...</td>\n",
              "      <td>...</td>\n",
              "      <td>...</td>\n",
              "      <td>...</td>\n",
              "      <td>...</td>\n",
              "      <td>...</td>\n",
              "      <td>...</td>\n",
              "      <td>...</td>\n",
              "      <td>...</td>\n",
              "    </tr>\n",
              "    <tr>\n",
              "      <th>19995</th>\n",
              "      <td>-1.478732</td>\n",
              "      <td>1.234686</td>\n",
              "      <td>-5.611362</td>\n",
              "      <td>5.841975</td>\n",
              "      <td>3.428655</td>\n",
              "      <td>-2.816614</td>\n",
              "      <td>-1.531572</td>\n",
              "      <td>0.750811</td>\n",
              "      <td>-3.129945</td>\n",
              "      <td>-3.513318</td>\n",
              "      <td>...</td>\n",
              "      <td>0.809805</td>\n",
              "      <td>0.350392</td>\n",
              "      <td>-0.842089</td>\n",
              "      <td>-0.036460</td>\n",
              "      <td>0.018600</td>\n",
              "      <td>-0.570984</td>\n",
              "      <td>0.003806</td>\n",
              "      <td>0.427073</td>\n",
              "      <td>-0.032357</td>\n",
              "      <td>0.000000</td>\n",
              "    </tr>\n",
              "    <tr>\n",
              "      <th>19996</th>\n",
              "      <td>-1.336714</td>\n",
              "      <td>1.366802</td>\n",
              "      <td>-1.564482</td>\n",
              "      <td>0.634207</td>\n",
              "      <td>-0.087367</td>\n",
              "      <td>1.006813</td>\n",
              "      <td>-2.963731</td>\n",
              "      <td>-2.445057</td>\n",
              "      <td>1.152708</td>\n",
              "      <td>-3.716076</td>\n",
              "      <td>...</td>\n",
              "      <td>0.462194</td>\n",
              "      <td>-0.104611</td>\n",
              "      <td>0.779315</td>\n",
              "      <td>-0.267056</td>\n",
              "      <td>-0.379381</td>\n",
              "      <td>0.214164</td>\n",
              "      <td>-0.107024</td>\n",
              "      <td>0.317702</td>\n",
              "      <td>0.061765</td>\n",
              "      <td>39.267967</td>\n",
              "    </tr>\n",
              "    <tr>\n",
              "      <th>19997</th>\n",
              "      <td>-1.713174</td>\n",
              "      <td>2.114115</td>\n",
              "      <td>-1.662005</td>\n",
              "      <td>2.607487</td>\n",
              "      <td>-0.894464</td>\n",
              "      <td>-1.570597</td>\n",
              "      <td>-2.164013</td>\n",
              "      <td>1.094449</td>\n",
              "      <td>-2.328022</td>\n",
              "      <td>-3.421655</td>\n",
              "      <td>...</td>\n",
              "      <td>0.171852</td>\n",
              "      <td>0.541231</td>\n",
              "      <td>0.076351</td>\n",
              "      <td>-0.214663</td>\n",
              "      <td>0.406073</td>\n",
              "      <td>-0.101575</td>\n",
              "      <td>0.247195</td>\n",
              "      <td>0.374852</td>\n",
              "      <td>0.075057</td>\n",
              "      <td>0.421781</td>\n",
              "    </tr>\n",
              "    <tr>\n",
              "      <th>19998</th>\n",
              "      <td>-4.697033</td>\n",
              "      <td>3.521861</td>\n",
              "      <td>-5.296648</td>\n",
              "      <td>4.003956</td>\n",
              "      <td>-3.273296</td>\n",
              "      <td>-0.940760</td>\n",
              "      <td>-5.726917</td>\n",
              "      <td>0.940591</td>\n",
              "      <td>-2.248068</td>\n",
              "      <td>-5.617671</td>\n",
              "      <td>...</td>\n",
              "      <td>-0.339064</td>\n",
              "      <td>2.461536</td>\n",
              "      <td>0.034142</td>\n",
              "      <td>0.389009</td>\n",
              "      <td>-0.127152</td>\n",
              "      <td>-0.350592</td>\n",
              "      <td>-0.255466</td>\n",
              "      <td>-0.342939</td>\n",
              "      <td>0.018538</td>\n",
              "      <td>1.012236</td>\n",
              "    </tr>\n",
              "    <tr>\n",
              "      <th>19999</th>\n",
              "      <td>-10.105190</td>\n",
              "      <td>7.469165</td>\n",
              "      <td>-13.104332</td>\n",
              "      <td>4.284690</td>\n",
              "      <td>-7.776837</td>\n",
              "      <td>-3.442143</td>\n",
              "      <td>-8.461299</td>\n",
              "      <td>7.022510</td>\n",
              "      <td>-2.377942</td>\n",
              "      <td>-6.039637</td>\n",
              "      <td>...</td>\n",
              "      <td>0.837948</td>\n",
              "      <td>0.934021</td>\n",
              "      <td>-0.895898</td>\n",
              "      <td>-0.208911</td>\n",
              "      <td>-0.033902</td>\n",
              "      <td>0.558653</td>\n",
              "      <td>-0.263776</td>\n",
              "      <td>1.124573</td>\n",
              "      <td>0.223346</td>\n",
              "      <td>99.990000</td>\n",
              "    </tr>\n",
              "  </tbody>\n",
              "</table>\n",
              "<p>20000 rows × 29 columns</p>\n",
              "</div>\n",
              "    <div class=\"colab-df-buttons\">\n",
              "\n",
              "  <div class=\"colab-df-container\">\n",
              "    <button class=\"colab-df-convert\" onclick=\"convertToInteractive('df-902c0be2-49fe-4305-b919-9f961b1eec58')\"\n",
              "            title=\"Convert this dataframe to an interactive table.\"\n",
              "            style=\"display:none;\">\n",
              "\n",
              "  <svg xmlns=\"http://www.w3.org/2000/svg\" height=\"24px\" viewBox=\"0 -960 960 960\">\n",
              "    <path d=\"M120-120v-720h720v720H120Zm60-500h600v-160H180v160Zm220 220h160v-160H400v160Zm0 220h160v-160H400v160ZM180-400h160v-160H180v160Zm440 0h160v-160H620v160ZM180-180h160v-160H180v160Zm440 0h160v-160H620v160Z\"/>\n",
              "  </svg>\n",
              "    </button>\n",
              "\n",
              "  <style>\n",
              "    .colab-df-container {\n",
              "      display:flex;\n",
              "      gap: 12px;\n",
              "    }\n",
              "\n",
              "    .colab-df-convert {\n",
              "      background-color: #E8F0FE;\n",
              "      border: none;\n",
              "      border-radius: 50%;\n",
              "      cursor: pointer;\n",
              "      display: none;\n",
              "      fill: #1967D2;\n",
              "      height: 32px;\n",
              "      padding: 0 0 0 0;\n",
              "      width: 32px;\n",
              "    }\n",
              "\n",
              "    .colab-df-convert:hover {\n",
              "      background-color: #E2EBFA;\n",
              "      box-shadow: 0px 1px 2px rgba(60, 64, 67, 0.3), 0px 1px 3px 1px rgba(60, 64, 67, 0.15);\n",
              "      fill: #174EA6;\n",
              "    }\n",
              "\n",
              "    .colab-df-buttons div {\n",
              "      margin-bottom: 4px;\n",
              "    }\n",
              "\n",
              "    [theme=dark] .colab-df-convert {\n",
              "      background-color: #3B4455;\n",
              "      fill: #D2E3FC;\n",
              "    }\n",
              "\n",
              "    [theme=dark] .colab-df-convert:hover {\n",
              "      background-color: #434B5C;\n",
              "      box-shadow: 0px 1px 3px 1px rgba(0, 0, 0, 0.15);\n",
              "      filter: drop-shadow(0px 1px 2px rgba(0, 0, 0, 0.3));\n",
              "      fill: #FFFFFF;\n",
              "    }\n",
              "  </style>\n",
              "\n",
              "    <script>\n",
              "      const buttonEl =\n",
              "        document.querySelector('#df-902c0be2-49fe-4305-b919-9f961b1eec58 button.colab-df-convert');\n",
              "      buttonEl.style.display =\n",
              "        google.colab.kernel.accessAllowed ? 'block' : 'none';\n",
              "\n",
              "      async function convertToInteractive(key) {\n",
              "        const element = document.querySelector('#df-902c0be2-49fe-4305-b919-9f961b1eec58');\n",
              "        const dataTable =\n",
              "          await google.colab.kernel.invokeFunction('convertToInteractive',\n",
              "                                                    [key], {});\n",
              "        if (!dataTable) return;\n",
              "\n",
              "        const docLinkHtml = 'Like what you see? Visit the ' +\n",
              "          '<a target=\"_blank\" href=https://colab.research.google.com/notebooks/data_table.ipynb>data table notebook</a>'\n",
              "          + ' to learn more about interactive tables.';\n",
              "        element.innerHTML = '';\n",
              "        dataTable['output_type'] = 'display_data';\n",
              "        await google.colab.output.renderOutput(dataTable, element);\n",
              "        const docLink = document.createElement('div');\n",
              "        docLink.innerHTML = docLinkHtml;\n",
              "        element.appendChild(docLink);\n",
              "      }\n",
              "    </script>\n",
              "  </div>\n",
              "\n",
              "\n",
              "<div id=\"df-c95ba0be-df3d-4cd8-a643-c71d0fae838b\">\n",
              "  <button class=\"colab-df-quickchart\" onclick=\"quickchart('df-c95ba0be-df3d-4cd8-a643-c71d0fae838b')\"\n",
              "            title=\"Suggest charts\"\n",
              "            style=\"display:none;\">\n",
              "\n",
              "<svg xmlns=\"http://www.w3.org/2000/svg\" height=\"24px\"viewBox=\"0 0 24 24\"\n",
              "     width=\"24px\">\n",
              "    <g>\n",
              "        <path d=\"M19 3H5c-1.1 0-2 .9-2 2v14c0 1.1.9 2 2 2h14c1.1 0 2-.9 2-2V5c0-1.1-.9-2-2-2zM9 17H7v-7h2v7zm4 0h-2V7h2v10zm4 0h-2v-4h2v4z\"/>\n",
              "    </g>\n",
              "</svg>\n",
              "  </button>\n",
              "\n",
              "<style>\n",
              "  .colab-df-quickchart {\n",
              "      --bg-color: #E8F0FE;\n",
              "      --fill-color: #1967D2;\n",
              "      --hover-bg-color: #E2EBFA;\n",
              "      --hover-fill-color: #174EA6;\n",
              "      --disabled-fill-color: #AAA;\n",
              "      --disabled-bg-color: #DDD;\n",
              "  }\n",
              "\n",
              "  [theme=dark] .colab-df-quickchart {\n",
              "      --bg-color: #3B4455;\n",
              "      --fill-color: #D2E3FC;\n",
              "      --hover-bg-color: #434B5C;\n",
              "      --hover-fill-color: #FFFFFF;\n",
              "      --disabled-bg-color: #3B4455;\n",
              "      --disabled-fill-color: #666;\n",
              "  }\n",
              "\n",
              "  .colab-df-quickchart {\n",
              "    background-color: var(--bg-color);\n",
              "    border: none;\n",
              "    border-radius: 50%;\n",
              "    cursor: pointer;\n",
              "    display: none;\n",
              "    fill: var(--fill-color);\n",
              "    height: 32px;\n",
              "    padding: 0;\n",
              "    width: 32px;\n",
              "  }\n",
              "\n",
              "  .colab-df-quickchart:hover {\n",
              "    background-color: var(--hover-bg-color);\n",
              "    box-shadow: 0 1px 2px rgba(60, 64, 67, 0.3), 0 1px 3px 1px rgba(60, 64, 67, 0.15);\n",
              "    fill: var(--button-hover-fill-color);\n",
              "  }\n",
              "\n",
              "  .colab-df-quickchart-complete:disabled,\n",
              "  .colab-df-quickchart-complete:disabled:hover {\n",
              "    background-color: var(--disabled-bg-color);\n",
              "    fill: var(--disabled-fill-color);\n",
              "    box-shadow: none;\n",
              "  }\n",
              "\n",
              "  .colab-df-spinner {\n",
              "    border: 2px solid var(--fill-color);\n",
              "    border-color: transparent;\n",
              "    border-bottom-color: var(--fill-color);\n",
              "    animation:\n",
              "      spin 1s steps(1) infinite;\n",
              "  }\n",
              "\n",
              "  @keyframes spin {\n",
              "    0% {\n",
              "      border-color: transparent;\n",
              "      border-bottom-color: var(--fill-color);\n",
              "      border-left-color: var(--fill-color);\n",
              "    }\n",
              "    20% {\n",
              "      border-color: transparent;\n",
              "      border-left-color: var(--fill-color);\n",
              "      border-top-color: var(--fill-color);\n",
              "    }\n",
              "    30% {\n",
              "      border-color: transparent;\n",
              "      border-left-color: var(--fill-color);\n",
              "      border-top-color: var(--fill-color);\n",
              "      border-right-color: var(--fill-color);\n",
              "    }\n",
              "    40% {\n",
              "      border-color: transparent;\n",
              "      border-right-color: var(--fill-color);\n",
              "      border-top-color: var(--fill-color);\n",
              "    }\n",
              "    60% {\n",
              "      border-color: transparent;\n",
              "      border-right-color: var(--fill-color);\n",
              "    }\n",
              "    80% {\n",
              "      border-color: transparent;\n",
              "      border-right-color: var(--fill-color);\n",
              "      border-bottom-color: var(--fill-color);\n",
              "    }\n",
              "    90% {\n",
              "      border-color: transparent;\n",
              "      border-bottom-color: var(--fill-color);\n",
              "    }\n",
              "  }\n",
              "</style>\n",
              "\n",
              "  <script>\n",
              "    async function quickchart(key) {\n",
              "      const quickchartButtonEl =\n",
              "        document.querySelector('#' + key + ' button');\n",
              "      quickchartButtonEl.disabled = true;  // To prevent multiple clicks.\n",
              "      quickchartButtonEl.classList.add('colab-df-spinner');\n",
              "      try {\n",
              "        const charts = await google.colab.kernel.invokeFunction(\n",
              "            'suggestCharts', [key], {});\n",
              "      } catch (error) {\n",
              "        console.error('Error during call to suggestCharts:', error);\n",
              "      }\n",
              "      quickchartButtonEl.classList.remove('colab-df-spinner');\n",
              "      quickchartButtonEl.classList.add('colab-df-quickchart-complete');\n",
              "    }\n",
              "    (() => {\n",
              "      let quickchartButtonEl =\n",
              "        document.querySelector('#df-c95ba0be-df3d-4cd8-a643-c71d0fae838b button');\n",
              "      quickchartButtonEl.style.display =\n",
              "        google.colab.kernel.accessAllowed ? 'block' : 'none';\n",
              "    })();\n",
              "  </script>\n",
              "</div>\n",
              "\n",
              "  <div id=\"id_55647e1b-aa9f-4259-baee-3d8642f09d74\">\n",
              "    <style>\n",
              "      .colab-df-generate {\n",
              "        background-color: #E8F0FE;\n",
              "        border: none;\n",
              "        border-radius: 50%;\n",
              "        cursor: pointer;\n",
              "        display: none;\n",
              "        fill: #1967D2;\n",
              "        height: 32px;\n",
              "        padding: 0 0 0 0;\n",
              "        width: 32px;\n",
              "      }\n",
              "\n",
              "      .colab-df-generate:hover {\n",
              "        background-color: #E2EBFA;\n",
              "        box-shadow: 0px 1px 2px rgba(60, 64, 67, 0.3), 0px 1px 3px 1px rgba(60, 64, 67, 0.15);\n",
              "        fill: #174EA6;\n",
              "      }\n",
              "\n",
              "      [theme=dark] .colab-df-generate {\n",
              "        background-color: #3B4455;\n",
              "        fill: #D2E3FC;\n",
              "      }\n",
              "\n",
              "      [theme=dark] .colab-df-generate:hover {\n",
              "        background-color: #434B5C;\n",
              "        box-shadow: 0px 1px 3px 1px rgba(0, 0, 0, 0.15);\n",
              "        filter: drop-shadow(0px 1px 2px rgba(0, 0, 0, 0.3));\n",
              "        fill: #FFFFFF;\n",
              "      }\n",
              "    </style>\n",
              "    <button class=\"colab-df-generate\" onclick=\"generateWithVariable('xtr')\"\n",
              "            title=\"Generate code using this dataframe.\"\n",
              "            style=\"display:none;\">\n",
              "\n",
              "  <svg xmlns=\"http://www.w3.org/2000/svg\" height=\"24px\"viewBox=\"0 0 24 24\"\n",
              "       width=\"24px\">\n",
              "    <path d=\"M7,19H8.4L18.45,9,17,7.55,7,17.6ZM5,21V16.75L18.45,3.32a2,2,0,0,1,2.83,0l1.4,1.43a1.91,1.91,0,0,1,.58,1.4,1.91,1.91,0,0,1-.58,1.4L9.25,21ZM18.45,9,17,7.55Zm-12,3A5.31,5.31,0,0,0,4.9,8.1,5.31,5.31,0,0,0,1,6.5,5.31,5.31,0,0,0,4.9,4.9,5.31,5.31,0,0,0,6.5,1,5.31,5.31,0,0,0,8.1,4.9,5.31,5.31,0,0,0,12,6.5,5.46,5.46,0,0,0,6.5,12Z\"/>\n",
              "  </svg>\n",
              "    </button>\n",
              "    <script>\n",
              "      (() => {\n",
              "      const buttonEl =\n",
              "        document.querySelector('#id_55647e1b-aa9f-4259-baee-3d8642f09d74 button.colab-df-generate');\n",
              "      buttonEl.style.display =\n",
              "        google.colab.kernel.accessAllowed ? 'block' : 'none';\n",
              "\n",
              "      buttonEl.onclick = () => {\n",
              "        google.colab.notebook.generateWithVariable('xtr');\n",
              "      }\n",
              "      })();\n",
              "    </script>\n",
              "  </div>\n",
              "\n",
              "    </div>\n",
              "  </div>\n"
            ],
            "application/vnd.google.colaboratory.intrinsic+json": {
              "type": "dataframe",
              "variable_name": "xtr"
            }
          },
          "metadata": {},
          "execution_count": 88
        }
      ]
    },
    {
      "cell_type": "code",
      "source": [
        "model = SVC()"
      ],
      "metadata": {
        "id": "YO168SJTEl1I"
      },
      "execution_count": null,
      "outputs": []
    },
    {
      "cell_type": "code",
      "source": [
        "# model.fit(xtr,ytr)"
      ],
      "metadata": {
        "id": "ZGV0Ii4EEqSj"
      },
      "execution_count": null,
      "outputs": []
    },
    {
      "cell_type": "code",
      "source": [
        "#train the model\n",
        "model2 = SVC(probability=True, random_state=2)\n",
        "svm = model2.fit(xtr, ytr)"
      ],
      "metadata": {
        "id": "XsQ0KhOCFoSb"
      },
      "execution_count": null,
      "outputs": []
    },
    {
      "cell_type": "code",
      "source": [
        "#predictions\n",
        "y_pred_svm = model2.predict(xt)"
      ],
      "metadata": {
        "id": "jLDGz3aQFvHs"
      },
      "execution_count": null,
      "outputs": []
    },
    {
      "cell_type": "code",
      "source": [
        "#scores\n",
        "print(\"Accuracy SVM:\",metrics.accuracy_score(yt, y_pred_svm))\n",
        "print(\"Precision SVM:\",metrics.precision_score(yt, y_pred_svm))\n",
        "print(\"Recall SVM:\",metrics.recall_score(yt, y_pred_svm))\n",
        "print(\"F1 Score SVM:\",metrics.f1_score(yt, y_pred_svm))\n",
        "\n",
        "cm_adjusted = confusion_matrix(yt, y_pred_svm)\n",
        "print(\"Adjusted Confusion Matrix:\")\n",
        "print(cm_adjusted)"
      ],
      "metadata": {
        "colab": {
          "base_uri": "https://localhost:8080/"
        },
        "id": "N5jT0SUcFxq9",
        "outputId": "99e7509d-1a0d-41a4-b82f-66d4972f07fb"
      },
      "execution_count": null,
      "outputs": [
        {
          "output_type": "stream",
          "name": "stdout",
          "text": [
            "Accuracy SVM: 0.96045197740113\n",
            "Precision SVM: 0.03697916666666667\n",
            "Recall SVM: 0.8819875776397516\n",
            "F1 Score SVM: 0.0709822544363909\n",
            "Adjusted Confusion Matrix:\n",
            "[[90128  3698]\n",
            " [   19   142]]\n"
          ]
        }
      ]
    },
    {
      "cell_type": "code",
      "source": [
        "y_pred_svm_proba = model2.predict_proba(xt)[::,1]\n",
        "y_pred_svm_proba"
      ],
      "metadata": {
        "colab": {
          "base_uri": "https://localhost:8080/"
        },
        "id": "rWf5ZtNyzsqC",
        "outputId": "b6917770-ef02-40fb-d9b6-d52209173582"
      },
      "execution_count": null,
      "outputs": [
        {
          "output_type": "execute_result",
          "data": {
            "text/plain": [
              "array([0.06065778, 0.03541377, 0.82003196, ..., 0.51444903, 0.04045827,\n",
              "       0.03790826])"
            ]
          },
          "metadata": {},
          "execution_count": 94
        }
      ]
    },
    {
      "cell_type": "code",
      "source": [
        "# from sklearn.metrics import confusion_matrix\n",
        "\n",
        "# # ... (Your existing code for model training and prediction, including y_scores) ...\n",
        "\n",
        "# # Adjusting the Decision Threshold\n",
        "# adjusted_threshold = -0.5  # Experiment with different values\n",
        "# y_pred_adjusted = (y_scores > adjusted_threshold)\n",
        "\n",
        "# # Confusion Matrix with Adjusted Predictions\n",
        "# cm_adjusted = confusion_matrix(yt, y_pred_adjusted)\n",
        "\n",
        "# print(\"Adjusted Confusion Matrix:\")\n",
        "# print(cm_adjusted)"
      ],
      "metadata": {
        "id": "pZFtqietxIe9"
      },
      "execution_count": null,
      "outputs": []
    },
    {
      "cell_type": "code",
      "source": [
        "#CM matrix\n",
        "matrix_svm = confusion_matrix(yt, y_pred_svm)\n",
        "cm_svm = pd.DataFrame(matrix_svm, index=['not_fraud', 'fraud'], columns=['not_fraud', 'fraud'])\n",
        "\n",
        "sns.heatmap(cm_svm, annot=True, cbar=None, cmap=\"Blues\", fmt = 'g')\n",
        "plt.title(\"Confusion Matrix SVM\"), plt.tight_layout()\n",
        "plt.ylabel(\"True Class\"), plt.xlabel(\"Predicted Class\")\n",
        "\n",
        "plt.show()"
      ],
      "metadata": {
        "colab": {
          "base_uri": "https://localhost:8080/",
          "height": 506
        },
        "id": "eVwQ_JifFzs7",
        "outputId": "276424cd-fad9-4354-b223-62acc1fdb2ca"
      },
      "execution_count": null,
      "outputs": [
        {
          "output_type": "display_data",
          "data": {
            "text/plain": [
              "<Figure size 640x480 with 1 Axes>"
            ],
            "image/png": "[encoded data removed]"
          },
          "metadata": {}
        }
      ]
    },
    {
      "cell_type": "code",
      "source": [
        "# # !pip install seaborn\n",
        "\n",
        "# import seaborn as sns\n",
        "# import matplotlib.pyplot as plt\n",
        "# from sklearn.metrics import confusion_matrix\n",
        "\n",
        "# # ... (Your existing code for model training and prediction, including y_scores) ...\n",
        "\n",
        "# # Adjusting the Decision Threshold\n",
        "# adjusted_threshold = -0.5 # Experiment with different values\n",
        "# y_pred_adjusted = (y_scores > adjusted_threshold)\n",
        "\n",
        "# # Confusion Matrix with Adjusted Predictions\n",
        "# cm_adjusted = confusion_matrix(yt, y_pred_adjusted)\n",
        "\n",
        "# # Heatmap\n",
        "# sns.heatmap(cm_adjusted, annot=True, fmt=\"d\", cmap=\"Blues\",\n",
        "#             xticklabels=[\"Not Fraud\", \"Fraud\"],\n",
        "#             yticklabels=[\"Not Fraud\", \"Fraud\"])\n",
        "# plt.xlabel(\"Predicted\")\n",
        "# plt.ylabel(\"Actual\")\n",
        "# plt.title(\"Adjusted Confusion Matrix Heatmap\")\n",
        "# plt.show()"
      ],
      "metadata": {
        "id": "rnvsInCexSA3"
      },
      "execution_count": null,
      "outputs": []
    },
    {
      "cell_type": "code",
      "source": [
        "#AUC\n",
        "y_pred_svm_proba = model2.predict_proba(xt)[::,1]\n",
        "fpr_svm, tpr_svm, _ = metrics.roc_curve(yt,  y_pred_svm_proba)\n",
        "auc_svm = metrics.roc_auc_score(yt, y_pred_svm_proba)\n",
        "print(\"AUC SVM :\", auc_svm)"
      ],
      "metadata": {
        "colab": {
          "base_uri": "https://localhost:8080/"
        },
        "id": "p4bVkUVNF2RI",
        "outputId": "f4b19350-f680-4764-cd9e-80f1c2339b27"
      },
      "execution_count": null,
      "outputs": [
        {
          "output_type": "stream",
          "name": "stdout",
          "text": [
            "AUC SVM : 0.9726856624916772\n"
          ]
        }
      ]
    },
    {
      "cell_type": "code",
      "source": [
        "#ROC\n",
        "plt.plot(fpr_svm,tpr_svm,label=\"SVM, auc={:.3f})\".format(auc_svm))\n",
        "plt.plot([0, 1], [0, 1], 'k--')\n",
        "plt.xlabel('False positive rate')\n",
        "plt.ylabel('True positive rate')\n",
        "plt.title('SVM ROC curve')\n",
        "plt.legend(loc=4)\n",
        "plt.show()"
      ],
      "metadata": {
        "colab": {
          "base_uri": "https://localhost:8080/",
          "height": 472
        },
        "id": "qm5d70p9F4YJ",
        "outputId": "1a46b192-0164-491b-e373-54fd5d48e2fc"
      },
      "execution_count": null,
      "outputs": [
        {
          "output_type": "display_data",
          "data": {
            "text/plain": [
              "<Figure size 640x480 with 1 Axes>"
            ],
            "image/png": "[encoded data removed]"
          },
          "metadata": {}
        }
      ]
    },
    {
      "cell_type": "code",
      "source": [
        "from sklearn.metrics import auc\n",
        "\n",
        "\n",
        "# Calculate AUPRC\n",
        "svm_precision, svm_recall, _ = precision_recall_curve(yt, y_pred_svm_proba)\n",
        "auprc_svm = auc(svm_recall, svm_precision)\n",
        "\n",
        "plt.plot([0, 1], [no_skill, no_skill], linestyle='--', color='black', label='No Skill')\n",
        "plt.plot(svm_recall, svm_precision, color='orange', label=f'SVM (AUPRC = {auprc_svm:.3f})')\n",
        "plt.xlabel('Recall')\n",
        "plt.ylabel('Precision')\n",
        "plt.title('Precision-Recall curve')\n",
        "plt.legend()\n",
        "plt.show()"
      ],
      "metadata": {
        "colab": {
          "base_uri": "https://localhost:8080/",
          "height": 472
        },
        "id": "0N62QrFhF6uC",
        "outputId": "466e34d1-afab-4942-a650-c5a913e76a0e"
      },
      "execution_count": null,
      "outputs": [
        {
          "output_type": "display_data",
          "data": {
            "text/plain": [
              "<Figure size 640x480 with 1 Axes>"
            ],
            "image/png": "[encoded data removed]"
          },
          "metadata": {}
        }
      ]
    }
  ]
}